{
 "cells": [
  {
   "cell_type": "markdown",
   "metadata": {},
   "source": [
    "# Qual Review Session: Undergrad QM"
   ]
  },
  {
   "cell_type": "markdown",
   "metadata": {},
   "source": [
    "**Problem #1**\n",
    "\n",
    "*Problem:* Compute $\\langle\\psi_0\\rvert x^4 \\lvert\\psi_0\\rangle$ in the ground state of the one-dimensional harmonic oscillator Hamiltonian $H = \\frac{p^2}{2m} + \\frac{1}{2} m\\omega^2 x^2$."
   ]
  },
  {
   "cell_type": "markdown",
   "metadata": {},
   "source": [
    "**Problem #2**\n",
    "\n",
    "*Problem:* Use the variational method with a Gaussian trial function $\\psi(x) = e^{-ax^2/2}$ to estimate the ground state energy of a particle in the potential $V(x)=\\lambda x^6$.\n",
    "\n",
    "Hint: the integral $\\int dx\\;x^n e^{-ax^2} = \\Gamma\\left(\\frac{n+1}{2}\\right) a^{-(n+1)/2}$."
   ]
  },
  {
   "cell_type": "markdown",
   "metadata": {},
   "source": [
    "**Problem #3**\n",
    "\n",
    "*Problem:*\n",
    "\n",
    "a. The ground state wave function of the one dimensional harmonic oscillator ($H_{harm}=\\frac{p^2}{2m}+\\frac{1}{2}m\\omega^2 x^2$) has the Gaussian form $\\Psi(x)=Ce^{-k^2 x^2}$.  Using the Schrodinger equation, find $k$, and also find the ground state energy $E_0$.  Show all steps.\n",
    "\n",
    "b. Use first order perturbation theory to find the first order correction $\\Delta E$ to the ground state energy given by a perturbation to the potential, $H_{pert}=\\lambda \\lvert x \\rvert$, with $\\lambda$ a constant, and $H_{tot}=H_{harm}+H_{pert}$."
   ]
  },
  {
   "cell_type": "markdown",
   "metadata": {},
   "source": [
    "**Problem #4**\n",
    "\n",
    "*Problem:* Consider a system of two spins that are coupled via a spin-spin interaction $W=a\\mathbf{S}_1\\cdot\\mathbf{S}_2$.  Here $a$ is a measure of the coupling strength.  How many (spin) states does the two-particle system have, and what are their energy levels?  Show how you calculate this."
   ]
  },
  {
   "cell_type": "markdown",
   "metadata": {},
   "source": [
    "**Problem #5**\n",
    "\n",
    "*Problem:* A one-dimensional non-relativistic particle interacts with the potential $V=\\lambda\\frac{\\hbar^2}{2m}\\delta(x)$.\n",
    "\n",
    "1. Calculate the reflection and transmission coefficients (probabilities) as a function of the incident particle wavenumber $k$.\n",
    "2. Calculate the scattering and bound states for $\\lambda < 0$.  Show that there is a single bound state, and that it is orthogonal to the scattering states."
   ]
  },
  {
   "cell_type": "markdown",
   "metadata": {},
   "source": [
    "**Problem #6**\n",
    "\n",
    "*Problem:* A hydrogen atom is placed in a time-dependent electric field $\\vec{E} = E(t)\\hat{k}$.  Consider transitions between the $n=1$ ground state and the $n=2$ excited states given the perturbation $H^{\\prime} = eEz$.\n",
    "\n",
    "a. Use symmetry to show that for all $n=1$ and $n=2$ states the matrix element $H^{\\prime}_{ii}=0$.\n",
    "\n",
    "b. Use symmetry arguments to show that only one of the $n=2$ states can be reached from the $n=1$ ground state.\n",
    "\n",
    "c. Calculate the one remaining transition matrix element $H^{\\prime}_{ij}$ between $n=1$ and $n=2$ states that is not zero."
   ]
  },
  {
   "cell_type": "markdown",
   "metadata": {},
   "source": [
    "**Problem #7**\n",
    "\n",
    "*Problem:* Consider two entangled spin $1/2$ particles separated by a large distance.  The four Bell states are given as\n",
    "\\begin{align*}\n",
    "\\lvert\\Phi_{\\pm}^{(AB)}\\rangle &= \\frac{1}{\\sqrt{2}} \\left[\\lvert z+,z+\\rangle \\pm \\lvert z-,z-\\rangle\\right] \\newline\n",
    "\\lvert\\Psi_{\\pm}^{(AB)}\\rangle &= \\frac{1}{\\sqrt{2}} \\left[\\lvert z+,z-\\rangle \\pm \\lvert z-,z+\\rangle\\right] \\newline\n",
    "\\end{align*}\n",
    "where $\\lvert z\\pm\\rangle$ are the two states along or against the $z$ axis; the first slot refers to particle $A$ which is nearby, the second to particle $B$ which is far away.  Consider applying a magnetic field only at location $A$, either in the $\\hat{x}$ or $\\hat{z}$ directions, for a time $t$.\n",
    "\n",
    "a. Write down the Hamiltonians, $H_z$ and $H_x$, for the two operations above, and also write down the time evolution operators $U_z(t,0)$ and $U_x(t,0)$.\n",
    "\n",
    "b. Find a time duration $t_A$ which results in $U_z\\lvert z+\\rangle = -i\\lvert z+\\rangle$.\n",
    "\n",
    "c. Using time $t_A$, find $U_z\\lvert z-\\rangle$ and $U_x\\lvert z\\pm\\rangle$.  (Hint: you may need to change from the $z$ basis to the $x$ basis).\n",
    "\n",
    "d. Using the two operations above, show that any one of the Bell states can be transformed into any other, when operating only at location $A$."
   ]
  },
  {
   "cell_type": "markdown",
   "metadata": {},
   "source": [
    "**Problem #8**\n",
    "\n",
    "*Problem:* Consider an electron constrained to move in the $xy$ plane under the influence of a uniform magnetic field of magnitude $B$ oriented in the $+\\hat{z}$ direction.  The Hamiltonian for this electron is\n",
    "$$\n",
    "H = \\frac{1}{2m} \\left[\\left(p_x - \\frac{e}{c}A_x\\right)^2 + \\left(p_y - \\frac{e}{c}A_y\\right)^2\\right]\n",
    "$$\n",
    "where $m$ and $e$ are the mass and charge of the electron, and $c$ is the speed of light.\n",
    "\n",
    "a. Find a suitable expression for $\\vec{A}$ so that $p_x$ is a constant of motion for the above Hamiltonian.\n",
    "\n",
    "b. With this choice for $\\vec{A}$, show that the eigenfunctions of $H$ can be written in the form\n",
    "$$\n",
    "\\Psi(x,y) = e^{(i/\\hbar)p_x x}\\Phi(y)\n",
    "$$\n",
    "where $\\Phi(y)$ satisfies the Schrodinger equation for a one-dimensional harmonic oscillator whose equilibrium position is $y=y_0$.  Find the effective spring constant $k$ for this oscillator and the shift of the origin $y_0$ in terms of $p_x$, $B$, $m$, $e$, and $c$.\n",
    "\n",
    "c. Find the energy eigenvalues for this system, and indicate degeneracies.\n",
    "\n",
    "d. For the remainder of the problem, supz"
   ]
  },
  {
   "cell_type": "markdown",
   "metadata": {},
   "source": [
    "**Problem #9**\n",
    "\n",
    "*Problem:* Consider a quantum mechanical system which only has two available states, i.e. the ket $\\lvert\\psi\\rangle$ is a vector in a 2-dimensional, complex vector space.  This space has a complete, orthonormal basis of kets $\\lvert e_i\\rangle$, for $i=1,2$.  The Hamiltonian of this system is $H = E_1\\lvert e_1\\rangle\\langle e_1\\rvert + E_2\\lvert e_2\\rangle\\langle e_2\\rvert$, where $E_1 < E_2$.  There is another observable $B$, with $B = b\\lvert e_1\\rangle\\langle e_2\\rvert + b\\lvert e_1\\rangle\\langle e_2\\rvert$, where $b$ is a positive real number.\n",
    "\n",
    "The following experiments are performed in sequence:\n",
    "\n",
    "- At time $t=t_0$, $B$ is measured.\n",
    "- At time $t_2$, the energy is measured.\n",
    "- At time $t_3$, $B$ is measured.\n",
    "- At time $t_4$, $B$ is measured again.\n",
    "\n",
    "a. Suppose that the outcome of experiment 1 is the larger of the two possible values.  Write the state for general time $t\\in(t_1,t_2)$.\n",
    "\n",
    "b. Suppose that at time $t_2$ the larger possible energy is measured.  Write the state for general $t\\in(t_2,t_3)$.\n",
    "\n",
    "c. Suppose that at time $t_3$ the *larger* possible value of $B$ is measured.  For what values (list all of them) of $\\Delta t\\equiv t_4-t_3$ is there a 100\\% probability that the *smaller* value of $B$ will be measured at time $t_4$?"
   ]
  },
  {
   "cell_type": "code",
   "execution_count": null,
   "metadata": {
    "collapsed": true
   },
   "outputs": [],
   "source": []
  }
 ],
 "metadata": {
  "kernelspec": {
   "display_name": "Python 2",
   "language": "python",
   "name": "python2"
  },
  "language_info": {
   "codemirror_mode": {
    "name": "ipython",
    "version": 2
   },
   "file_extension": ".py",
   "mimetype": "text/x-python",
   "name": "python",
   "nbconvert_exporter": "python",
   "pygments_lexer": "ipython2",
   "version": "2.7.10"
  }
 },
 "nbformat": 4,
 "nbformat_minor": 0
}
