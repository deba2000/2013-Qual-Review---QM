{
 "metadata": {
  "name": ""
 },
 "nbformat": 3,
 "nbformat_minor": 0,
 "worksheets": [
  {
   "cells": [
    {
     "cell_type": "heading",
     "level": 1,
     "metadata": {},
     "source": [
      "2013 UCSD Qual Review: Grad QM"
     ]
    },
    {
     "cell_type": "heading",
     "level": 4,
     "metadata": {},
     "source": [
      "Paul Rozdeba, Sep 4 2013"
     ]
    },
    {
     "cell_type": "markdown",
     "metadata": {},
     "source": [
      "Previous 5 years' exams, categorized by problem type:\n",
      "\n",
      "- Angular momentum/Spin\n",
      "    - SP12, #15 (2 spin 1/2 particles)\n",
      "    - SP10, #16 (2 spins, weak interaction potential)\n",
      "    - FA10, #18 ($L$, \"$V$\" algebra)\n",
      "    - SP09, #15 (spin in external field)\n",
      "- Perturbation theory\n",
      "    - FA11, #16 ($v_i$, $w_i$ problem)\n",
      "    - FA09, #17 (two spins, weakly interacting potential)\n",
      "    - FA09, #18 (time-dependent, square well + weak square barrier)\n",
      "    - FA08, #15 (large, heavy nucleus)\n",
      "    - FA08, #16 (separable problem, periodic coordinates)\n",
      "- Variational principle\n",
      "    - SP11, #16 (also w/ OOM estimate using uncertainty ppl)\n",
      "    - SP08, #15 (Yukawa potential)\n",
      "- WKB\n",
      "    - SP10, #15 (particle escape rate from spherical potential)\n",
      "- Scattering\n",
      "    - SP12, #16 (relativistic scattering)\n",
      "    - FA10, #17 (using Born approximation)\n",
      "    - SP09, #16 (half-silvered mirror, Sham style)\n",
      "- Other\n",
      "    - SP11, #15 (gauge, commutators, etc)\n",
      "    - FA11, #15 (semiclassical approx, creation/annihilation operators)\n",
      "    - SP08, #16 (Fock states)"
     ]
    },
    {
     "cell_type": "code",
     "collapsed": false,
     "input": [],
     "language": "python",
     "metadata": {},
     "outputs": []
    }
   ],
   "metadata": {}
  }
 ]
}