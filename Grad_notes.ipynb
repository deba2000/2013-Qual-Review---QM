{
 "metadata": {
  "name": ""
 },
 "nbformat": 3,
 "nbformat_minor": 0,
 "worksheets": [
  {
   "cells": [
    {
     "cell_type": "heading",
     "level": 1,
     "metadata": {},
     "source": [
      "2013 UCSD Qual Review: Grad QM"
     ]
    },
    {
     "cell_type": "heading",
     "level": 4,
     "metadata": {},
     "source": [
      "Paul Rozdeba, Sep 4 2013"
     ]
    },
    {
     "cell_type": "markdown",
     "metadata": {},
     "source": [
      "Previous 5 years' exams, categorized by problem type:\n",
      "\n",
      "- Angular momentum/Spin\n",
      "    - SP12, #15 (2 spin 1/2 particles)\n",
      "    - SP10, #16 (2 spins, weak interaction potential)\n",
      "    - FA10, #18 ($L$, \"$V$\" algebra) $\\checkmark$\n",
      "    - SP09, #15 (spin in external field)\n",
      "- Perturbation theory\n",
      "    - FA11, #16 ($v_i$, $w_i$ problem)\n",
      "    - FA09, #17 (two spins, weakly interacting potential) $\\checkmark$\n",
      "    - FA09, #18 (time-dependent, square well + weak square barrier)\n",
      "    - FA08, #15 (large, heavy nucleus)\n",
      "    - FA08, #16 (separable problem, periodic coordinates)\n",
      "- Variational principle\n",
      "    - SP11, #16 (also w/ OOM estimate using uncertainty ppl)\n",
      "    - SP08, #15 (Yukawa potential)\n",
      "- WKB\n",
      "    - SP10, #15 (particle escape rate from spherical potential)\n",
      "- Scattering\n",
      "    - SP12, #16 (relativistic scattering)\n",
      "    - FA10, #17 (using Born approximation) $\\checkmark$\n",
      "    - SP09, #16 (half-silvered mirror, Sham style)\n",
      "- Other\n",
      "    - SP11, #15 (gauge, commutators, etc) $\\checkmark$\n",
      "    - FA11, #15 (semiclassical approx, creation/annihilation operators)\n",
      "    - SP08, #16 (Fock states) $\\checkmark$"
     ]
    },
    {
     "cell_type": "heading",
     "level": 4,
     "metadata": {},
     "source": [
      "SP10, #16 (Spin)"
     ]
    },
    {
     "cell_type": "markdown",
     "metadata": {},
     "source": [
      "***Problem:*** Consider various numbers of particles, of mass $M$ and spin $s$, in a 3d central potential $V(r) = C\\lvert r\\rvert^2$, where $C$ is a constant.\n",
      "\n",
      "a) A single spin $s$ is in the first excited state.  What is the energy?  What is the schematic form of the energy eigenstate?  What values of $L_z$ can be measured in this state, where $\\vec{L}$ is the orbital angular momentum?  What values of $L^2$, $S^2$ and $J^2$ can be measured, where $\\vec{J} = \\vec{L} + \\vec{S}$ is the total angular momentum?\n",
      "\n",
      "b) Now consider the case of two identical fermions, with $s = 1/2$, which interact with each other only very weakly, with a small repulsive potential of strength $\\epsilon \\approx 0$.  Ignore the potential except to resolve degenerate energy levels.  What is the ground state energy?  What is the schematic form of the ground state energy eigenfunction?  What values of $L^2$, $S^2$, and $J^2$ can be measured in the ground state?\n",
      "\n",
      "c) Same setup as part (b).  Now consider the first excited state.  Again, the particles have a slight repulsive potential.  What is the first excidted state energy?  What is the schematic form of its energy eigenfunction?  What values of $L^2$, $S^2$, and $J^2$ can be measured in the first excited state?\n",
      "\n",
      "d) Same questions as the previous part, but for the case where the two particles have a weakly attractive potential."
     ]
    },
    {
     "cell_type": "markdown",
     "metadata": {},
     "source": [
      "***Solution:***\n",
      "\n",
      "a) The energy levels in this potential are $E_n = (n+3/2) \\hbar \\omega$, where $\\omega = \\sqrt{2C/M}$.  The \"schematic\" form of the first excited state, I guess, is $\\lvert 1,0,0 \\rangle$, i.e. there are three translational degrees of freedom corresponding to three quantum numbers labeling any given state (might as well have made any one of those numbers 1).  The energy is $\\frac{5}{2}\\hbar\\omega$."
     ]
    },
    {
     "cell_type": "heading",
     "level": 4,
     "metadata": {},
     "source": [
      "FA10, #18 (Spin)"
     ]
    },
    {
     "cell_type": "markdown",
     "metadata": {},
     "source": [
      "***Problem:*** Let $L_{\\pm} = L_x \\pm iL_y$ and $L_z$ be angular momentum operators.  Consider an operator $V_+$ which satisfies\n",
      "$$\n",
      "[L_+,V_+] = 0, \\quad [L_z,V_+] = V_+\n",
      "$$\n",
      "\n",
      "a) Let $\\lvert\\ell,m\\rangle$ be a simultaneous eigenfunction of $L^2$ and $L_z$ with eigenvalues $\\ell(\\ell + 1)$ and $m$, respectively.  (Here, $\\hbar = 1$.)  Show that\n",
      "$$\n",
      "V_+ \\lvert\\ell,\\ell\\rangle = \\text{const}\\lvert\\ell+1,\\ell+1\\rangle\n",
      "$$\n",
      "\n",
      "b) Demonstrate, for the case of orbital angular momenta, that\n",
      "$$\n",
      "V_+ = e^{i\\phi}\\sin\\theta\n",
      "$$\n",
      "satisfies the commutation relations of $V_+$ with $L_+$ and $L_z$ given above.  Recall that the operators $L_+$ and $L_z$ are given by the differential operators\n",
      "$$\n",
      "\\begin{align}\n",
      "L_+ &= e^{i\\phi} \\left(\\partial_{\\theta} + i\\cot\\theta\\partial_{\\phi}\\right) \\\\\n",
      "L_z &= -i\\partial_{\\phi}\n",
      "\\end{align}\n",
      "$$\n",
      "\n",
      "c) Assume that $\\lvert 0,0\\rangle = const \\equiv 1/\\sqrt{4\\pi}$.  Using the equations in parts (a) and (b), determine the functions $\\lvert\\ell,\\ell\\rangle$, normalized such that\n",
      "$$\n",
      "\\langle\\ell,\\ell\\lvert\\ell,\\ell\\rangle = 1\n",
      "$$\n",
      "\n",
      "A useful integral is\n",
      "$$\n",
      "\\int_0^{\\pi/2}d\\theta \\; \\sin^{2\\ell+1}\\theta = \\frac{2^{\\ell}\\ell!}{(2\\ell+1)!!}\n",
      "$$"
     ]
    },
    {
     "cell_type": "markdown",
     "metadata": {},
     "source": [
      "***Solution:***\n",
      "\n",
      "a) Use the commutators:\n",
      "$$\n",
      "L_z V_+ \\lvert\\ell,\\ell\\rangle = \\left\\{[L_z,V_+] + V_+ L_z\\right\\}\\lvert\\ell,\\ell\\rangle = (1+\\ell)V_+\\lvert\\ell,\\ell\\rangle\n",
      "$$\n",
      "which means $V_+\\lvert\\ell,\\ell\\rangle$ is an eigenstate of $L_z$ with eigenstate $\\ell+1$.  Since $m$ ranges from $-\\ell$ to $\\ell$, the best we can say for now is that\n",
      "$$\n",
      "V_+\\lvert\\ell,\\ell\\rangle = \\sum_{n\\geq\\ell+1}c_n\\lvert n,\\ell+1\\rangle\n",
      "$$\n",
      "\n",
      "We can also say that\n",
      "$$\n",
      "L_+ V_+ \\lvert\\ell,\\ell\\rangle = V_+ L_+ \\lvert\\ell,\\ell\\rangle = 0\n",
      "$$\n",
      "where the first equality holds because of the second commutator given in the problem statement; and the second equality because the maximum value $m$ can take is $\\ell$.  Using our result for $V_+\\lvert\\ell,\\ell\\rangle$, this implies\n",
      "$$\n",
      "\\begin{align}\n",
      "\\sum_{n\\geq\\ell+1}c_n L_+\\lvert n,\\ell+1\\rangle = 0 &= \\sum_{n\\geq\\ell+1}c_n \\sqrt{n(n+1) - \\ell(\\ell+1)} \\lvert n,\\ell+2\\rangle \\\\\n",
      "&= \\sum_{n\\geq\\ell+2}c_n \\sqrt{n(n+1) - \\ell(\\ell+1)} \\lvert n,\\ell+2\\rangle\n",
      "\\end{align}\n",
      "$$\n",
      "where the last equality holds because we can't have a state with $m>\\ell$.  For this to hold in general, it is required that $c_n=0$ when $n \\geq \\ell+2$.  We have thus shown that $V_+\\lvert\\ell,\\ell\\rangle$ = const$\\lvert\\ell+1,\\ell+1\\rangle$.\n",
      "\n",
      "b) Plug and chug:\n",
      "$$\n",
      "\\begin{align}\n",
      "[L_+,V_+] &= \\left[e^{i\\phi}\\left(\\partial_{\\theta} + i\\cot\\theta\\partial_{\\phi}\\right), e^{i\\phi}\\sin\\theta\\right] \\\\\n",
      "&= e^{i\\phi} \\left\\{ e^{i\\phi} \\left(\\cos\\theta + \\sin\\theta \\partial_{\\theta}\\right) + ie^{i\\phi}\\cot\\theta\\sin\\theta \\left(i + \\partial_{\\phi}\\right) - e^{i\\phi}\\sin\\theta\\left(\\partial_{\\theta} + i\\cot\\theta\\partial_{\\phi}\\right) \\right\\} \\\\\n",
      "&= e^{2i\\phi} \\left\\{ \\cos\\theta - \\cot\\theta\\sin\\theta \\right\\} \\\\\n",
      "&= 0 \\quad \\checkmark\n",
      "\\end{align}\n",
      "$$\n",
      "\n",
      "Next,\n",
      "$$\n",
      "\\begin{align}\n",
      "[L_z,V_+]f(\\phi) &= \\left[-i\\partial_{\\phi}, e^{i\\phi}\\sin\\theta\\right] \\\\\n",
      "&= -i\\sin\\theta\\left\\{ e^{i\\phi} \\left(i + \\partial_{\\phi}\\right) - e^{i\\phi}\\partial_{\\phi} \\right\\} \\\\\n",
      "&= e^{i\\phi}\\sin\\theta \\\\\n",
      "&= V_+ \\quad \\checkmark\n",
      "\\end{align}\n",
      "$$\n",
      "\n",
      "c) Now use the definition of $V_+$:\n",
      "$$\n",
      "\\lvert \\ell,\\ell\\rangle = c_{\\ell}\\left(V_+\\right)^{\\ell}\\lvert 0,0\\rangle\n",
      "$$\n",
      "\n",
      "Normalization imposes:\n",
      "$$\n",
      "\\begin{align}\n",
      "\\langle\\ell,\\ell\\lvert\\ell,\\ell\\rangle &= \\lvert c_{\\ell}\\rvert^2 \\langle0,0\\rvert \\left(V^{\\dagger}V\\right)^{\\ell} \\lvert 0,0\\rangle \\\\\n",
      "&= \\lvert c_{\\ell}\\rvert^2 \\frac{1}{4\\pi} \\int_0^{2\\pi} d\\phi \\;e^{i\\ell\\phi}e^{-i\\ell\\phi} \\int_0^{\\pi} d\\theta \\; \\sin^{2\\ell+1}\\theta \\\\\n",
      "&= \\frac{\\lvert c_{\\ell}\\rvert^2}{2} 2\\int_0^{\\pi/2}d\\theta \\; \\sin^{2\\ell+1}\\theta \\\\\n",
      "&= \\lvert c_{\\ell}\\rvert^2 \\int_0^{\\pi/2}d\\theta \\; \\sin^{2\\ell+1}\\theta \\\\\n",
      "&= \\frac{2^{\\ell}\\ell!}{(2\\ell+1)!!} = 1 \\\\\n",
      "\\Rightarrow c_{\\ell} &= \\sqrt{\\frac{(2\\ell+1)!!}{2^{\\ell}\\ell!}}\n",
      "\\end{align}\n",
      "$$\n",
      "\n",
      "So,\n",
      "$$\n",
      "\\lvert\\ell,\\ell\\rangle = \\sqrt{\\frac{(2\\ell+1)!!}{2^{\\ell+2}\\pi\\ell!}} e^{i\\ell\\phi}\\sin^{\\ell}\\theta\n",
      "$$"
     ]
    },
    {
     "cell_type": "heading",
     "level": 4,
     "metadata": {},
     "source": [
      "FA11, #16 (Perturbation theory)"
     ]
    },
    {
     "cell_type": "markdown",
     "metadata": {},
     "source": [
      "***Problem:*** A hydrogen atom is placed in an external perturbing potential\n",
      "$$\n",
      "V = f(r)(x^2+y^2)\n",
      "$$\n",
      "\n",
      "You are given the matrix elements\n",
      "$$\n",
      "...\n",
      "$$\n",
      "\n",
      "a) There are two relations between $v_x$, $v_y$, and $v_z$.  Find these to write $v_x$ and $v_y$ in terms of $v_z$.\n",
      "\n",
      "b) There is one relation between $w_x$, $w_y$, and $w_z$.  Find this to eliminate $w_y$.\n",
      "\n",
      "c) Find the first-order shift in the energy levels of the $n=2$ states in terms of $v_z$ and $w_{x,z}$."
     ]
    },
    {
     "cell_type": "heading",
     "level": 4,
     "metadata": {},
     "source": [
      "FA09, #17 (Perturbation theory)"
     ]
    },
    {
     "cell_type": "markdown",
     "metadata": {},
     "source": [
      "***Problem:*** Two identical spin $\\frac{1}{2}$ fermions of mass $M$ are in a cubical box of length $L$.  They interact via the attractive potential\n",
      "$$\n",
      "V_1(\\vec{r}_1,\\vec{r}_2) = -\\epsilon L^3 \\delta^3 (\\vec{r}_1 - \\vec{r}_2)\n",
      "$$\n",
      "where $\\epsilon$ is small and positive.  Treat the problem non-relativistically, treating $V_1$ as a perturbation, and use $\\sin\\theta = \\text{Im}(e^{i\\theta})$ to do the integral.\n",
      "\n",
      "a) Compute the energy eigenvector and eigenvalue of the ground state, working to $O(\\epsilon)$.  Include the spin degrees of freedom.\n",
      "\n",
      "b) What is the total spin $S$ of the ground state, and the first excited state, and their total degeneracies? (Don't forget to include that of the spin.)\n",
      "\n",
      "c) What is the total spin and total degeneracy of the first excited state if the potential were instead repulsive ($\\epsilon<0$)?"
     ]
    },
    {
     "cell_type": "markdown",
     "metadata": {},
     "source": [
      "***Solution:***\n",
      "\n",
      "a) The state of the two-particle system has a spatial part and a spin part, i.e. $\\lvert \\Psi \\rangle = \\lvert\\Phi\\rangle \\otimes \\lvert S\\rangle$; overall the state must be antisymmetric (picks up a minus sign under interchange of the two particles) because it is composed of two fermions.  The spatial part is thus $\\Phi = \\phi_{\\vec{n}}(\\vec{r_1})\\phi_{\\vec{m}}(\\vec{r_2}) \\pm \\phi_{\\vec{n}}(\\vec{r_2})\\phi_{\\vec{m}}(\\vec{r_1})$, where the $\\phi$'s are the regular wavefunctions for the particle in a box.  The energy eigenvalues are $E_{\\vec{n},\\vec{m}} = (\\vec{n}^2 + \\vec{m}^2)/(2mL^2)$.\n",
      "\n",
      "This system has three symmetric triplet spin states, and a single antisymmetric singlet state.  The states $\\lvert\\Phi\\rangle_A \\otimes \\lvert S=1\\rangle$ are thus unaffected by the perturbation, since\n",
      "$$\n",
      "\\Delta E = \\int d^3\\vec{r}_1 d^3\\vec{r}_2 \\; \\Phi^* V \\Phi\n",
      "$$\n",
      "and the delta function in $V$ identifies $\\vec{r}_1$ with $\\vec{r}_2$ (so $\\Delta E=0$).\n",
      "\n",
      "What remains, then, is $\\Delta E$ for the state $\\lvert\\Phi\\rangle_S \\otimes \\lvert S=0\\rangle$ with the spatial part in its ground state, so $\\lvert\\Psi\\rangle = \\phi_{111}(\\vec{r}_1)\\phi_{111}(\\vec{r}_2) \\otimes \\lvert S=0\\rangle$ (playing fast and loose with notation here...).  The PIAB states each look like\n",
      "$$\n",
      "\\phi_{\\vec{n}}(\\vec{r}) = \\left(\\frac{2}{L}\\right)^{3/2}\\sin(n_x\\pi x/L)\\sin(n_y\\pi y/L)\\sin(n_z\\pi z/L)\n",
      "$$\n",
      "\n",
      "Using the complex form for $\\sin$ is actually pretty helpful, since we just end up with a product of a bunch of $\\sin$'s to integrate, all with $n=1$, and I don't remember how to integrate $\\sin$ to the $n$-th power...  The integral ends up looking like:\n",
      "$$\n",
      "\\begin{align}\n",
      "\\Delta E &= \\epsilon L^3 \\left(\\frac{2}{L}\\right)^6 \\left(\\frac{L}{\\pi}\\right)^3 \\left[\\int dx \\; \\left(\\frac{e^{ix} - e^{-ix}}{2i}\\right)^4\\right]^3 \\\\\n",
      "&= \\ldots = -\\frac{27}{8}\\epsilon\n",
      "\\end{align}\n",
      "$$\n",
      "\n",
      "(You might be worried about the degeneracy in the unperturbed ground states of this system.  What we calculated is OK, however, since the sector of the matrix elements $V_{ij}$ corresponding to the singlet state is factorizable from the rest of the matrix.  There is no degeneracy to worry about in this calculation.)\n",
      "\n",
      "b) Since the energy shift was negative, the new ground state has $S=0$ and has zero degeneracy (there's only one singlet state!).  The $S=1$ states remain at the original ground state energy.\n",
      "\n",
      "The first excited state gets a single 2 in either $\\vec{n}$ or $\\vec{m}$.  It has a degeneracy of 3, since we can fill any of 3 slots with a 2 (and since the delta function identifies $\\vec{r}_1 \\leftrightarrow \\vec{r}_2$, which makes it *not* have a degeneracy of 6).  The lowest-energy excited state will, again, be the $S=0$ state, since the symmetric spatial state will automatically experience a larger negative energy shift in an attractive potential.\n",
      "\n",
      "c) If the potential were instead repulsive, then the state with antisymmetric spatial part would be lower in energy.  This means it would have a degeneracy of 9: 3 for the spatial degrees of freedom and 3 for the triplet states."
     ]
    },
    {
     "cell_type": "heading",
     "level": 4,
     "metadata": {},
     "source": [
      "FA08, #16 (Perturbation theory)"
     ]
    },
    {
     "cell_type": "markdown",
     "metadata": {},
     "source": []
    },
    {
     "cell_type": "heading",
     "level": 4,
     "metadata": {},
     "source": [
      "FA10, #17 (Scattering)"
     ]
    },
    {
     "cell_type": "markdown",
     "metadata": {},
     "source": [
      "***Problem:*** Two spin $\\frac{1}{2}$ particles of mass $m$ interact via $H_{int} = C\\vec{S}_1\\cdot\\vec{S}_2 \\delta^3(\\vec{r})$, where $C$ is a constant.\n",
      "\n",
      "a) Calculate the approximate differential and total scattering cross-section for the spin singlet configuration in the case where the particles are distinguishable.\n",
      "\n",
      "b) Calculate the approximate differential and total scattering cross section for the spin triplet configuration, in the case where the two particles are distinguishable.\n",
      "\n",
      "c) Compute the differential scattering cross section for unpolarized scattering, again for distinguishable particles.\n",
      "\n",
      "d) How do the above change when the particles are indistinguishable?\n",
      "\n",
      "e) How would your answer to part (d) change if the interaction is a more general $H_{int} = \\vec{S}_1\\cdot\\vec{S}_2 f(\\vec{r})$?"
     ]
    },
    {
     "cell_type": "markdown",
     "metadata": {},
     "source": [
      "***Solution:***\n",
      "\n",
      "a) We can expand the effect of the interaction to first order in $H_{int}$ using the Born approximation.  The claim is that, if we observe the scattering process \"far\" from the scatterer, the scattered wavefunction will look like a plane wave plus a small contribution proportional to a spherical wave, i.e.\n",
      "$$\n",
      "\\psi(\\vec{r}) = \\frac{1}{(2\\pi)^{3/2}} \\left[e^{i\\vec{k}\\cdot\\vec{r}} + \\frac{e^{ikr}}{r}f(\\vec{k}^{\\prime},\\vec{k})\\right]\n",
      "$$\n",
      "where $r \\equiv \\lvert\\vec{r}\\rvert$.  The Born approximation is not this approximation, but the approximation that the interaction isn't \"too strong\".  This gives for $f$ the form\n",
      "$$\n",
      "f^{(1)}(\\vec{k}^{\\prime},\\vec{k}) = -\\frac{1}{4\\pi}\\frac{2m}{\\hbar^2}\\int d^3\\vec{r}^{\\prime} \\; e^{i(\\vec{k}-\\vec{k}^{\\prime})\\cdot\\vec{r}^{\\prime}} H_{int}(\\vec{r}^{\\prime})\n",
      "$$\n",
      "where the $^{(1)}$ superscript is a reminder that this is a lowest-order expansion in the strength of the interaction.\n",
      "\n",
      "We might as well set one of the particles stationary at the origin, so\n",
      "$$\n",
      "\\begin{align}\n",
      "f^{(1)}(\\vec{k}) &= -\\frac{2m}{4\\pi\\hbar^2} \\int d^3\\vec{r} \\; e^{i\\vec{k}\\cdot\\vec{r}} H_{int}(\\vec{r}) \\\\\n",
      "&= -\\frac{mC}{2\\pi\\hbar^2} \\vec{S}_1\\cdot\\vec{S}_2 \\\\\n",
      "&= -\\frac{mC}{2\\pi\\hbar^2} \\frac{1}{2} \\left(S^2 - S_1^2 - S_2^2\\right) \\\\\n",
      "&= -\\frac{mC}{2\\pi\\hbar^2} \\frac{1}{2} \\left[s\\left(s+1\\right) - \\frac{3}{2}\\right]\\hbar^2 \\\\\n",
      "&= -\\frac{mC}{2\\pi\\hbar^2} \\times\n",
      "\\begin{cases}\n",
      "-\\frac{3}{4}\\hbar^2 &\\mbox{(singlet)} \\\\\n",
      "+\\frac{1}{4}\\hbar^2 &\\mbox{(triplet)}\n",
      "\\end{cases}\n",
      "\\end{align}\n",
      "$$\n",
      "\n",
      "The differential scattering cross section is just \n",
      "$$\n",
      "\\frac{d\\sigma}{d\\Omega} = \\lvert f(\\vec{k})\\rvert^2 = \\frac{9m^2C^2}{64\\pi^2}\n",
      "$$\n",
      "for the singlet state.  This is just a number, so the total scattering cross section is \n",
      "$$\n",
      "\\sigma = \\frac{9m^2C^2}{16\\pi}\n",
      "$$\n",
      "\n",
      "b) We use the same result for the triplet to obtain\n",
      "$$\n",
      "\\frac{d\\sigma}{d\\Omega} = \\frac{m^2C^2}{64\\pi^2}; \\quad \\sigma = \\frac{m^2C^2}{16\\pi}\n",
      "$$\n",
      "\n",
      "c) Unpolarized scattering means that we aren't distinguishing between the singlet and triplet states.  So, average over the differential cross sections to obtain\n",
      "$$\n",
      "\\frac{d\\sigma}{d\\Omega} = \\frac{3m^2C^2}{64\\pi^2}\n",
      "$$\n",
      "\n",
      "d) If the particles are now indistinguishable, the fermion statistics might affect the scattering cross sections.  The singlet state scattering is actually unchanged, since the spatial part of the state is symmetric (so unchanged from part (a)), and normalized.\n",
      "\n",
      "The triplet state does not scatter at all.  This is because the spatial part of the state is antisymmetric, and the delta function interaction is symmetric.  This kills the integral.\n",
      "\n",
      "e) As long as $f(\\vec{r})$ isn't even, the triplet state can now scatter.  Also, the singlet state will *not* scatter if $f(\\vec{r})$ is odd."
     ]
    },
    {
     "cell_type": "heading",
     "level": 4,
     "metadata": {},
     "source": [
      "SP09, #16 (Scattering)"
     ]
    },
    {
     "cell_type": "heading",
     "level": 4,
     "metadata": {},
     "source": [
      "SP11, #15 (Other: gauge, commutators, etc)"
     ]
    },
    {
     "cell_type": "markdown",
     "metadata": {},
     "source": [
      "***Problem:*** Consider a non-relativistic particle of mass $m$ and charge $e$, in the external fields $\\vec{E} = E\\hat{z}$ and $\\vec{B} = B\\hat{y}$, wher $E$ and $B$ are constants.\n",
      "\n",
      "a) Write the Hamiltonian in the gauge where $\\vec{A}$ has only $\\hat{x}$ component non-zero, and verify that it has translation symmetry in two of the coordinates (which two?). [2 points]\n",
      "\n",
      "b) What are the corresponding conserved quantities? [1 point]\n",
      "\n",
      "c) Write the corresponding form of the wavefunction $\\psi(x,y,z)$ using separation of variables, so they're eigenstates of the above two conserved quantities.  Show that this $\\psi(x,y,z)$ reduces the Schr\u00f6dinger equation to that of a 1d problem, in the one coordinate that does not have translation invariance. [2 points]\n",
      "\n",
      "d) Use $[H,x]$ to compute $\\dot{x}$.  Is $p_x = m\\dot{x}$? [1 point]\n",
      "\n",
      "e) Show that for a cleverly chosen shift in one of the spatial coordinates, you can reduce the remaining 1d Hamiltonian to one that you know very well.  In this way, find the quantized energy levels, and in particular the spacing between them. [4 points]"
     ]
    },
    {
     "cell_type": "markdown",
     "metadata": {},
     "source": [
      "***Solution:***\n",
      "\n",
      "a) Since $\\phi = -Ez$, we should choose $\\vec{A}$ such that the Hamiltonian contains only $z$ explicitly, so that it is translation-invariant in the $x$ and $y$ directions.  $\\vec{B} = \\nabla \\times \\vec{A}$, so $\\vec{A} = Bz\\hat{x}$ is a choice of gauge that works.  That's because:\n",
      "$$\n",
      "\\begin{align}\n",
      "&\\nabla \\times \\vec{A} = B\\hat{y}, \\quad \\checkmark \\\\\n",
      "\\\\\n",
      "&\\vec{p} \\rightarrow \\vec{p} - \\frac{e}{c}\\vec{A} \\\\\n",
      "\\Rightarrow & H = \\frac{1}{2m}\\left[\\left(p_x - \\frac{e}{c}Bz\\right)^2 + p_y^2 + p_z^2\\right] - eEz \\quad \\checkmark\n",
      "\\end{align}\n",
      "$$\n",
      "which is clearly translation-invariant in $x$ and $y$.\n",
      "\n",
      "b) Translation invariance in $x$ and $y$ $\\Leftrightarrow$ $p_x$ and $p_y$ are conserved quantities.  We know this from classical mechanics, and the correspondence principle tells us that $\\{H,p_{x,y}\\} = 0 \\Leftrightarrow [H,p_{x,y}] = 0$.  You can even explicitly check for $[H,p_{x,y}] = 0$; since $p \\sim \\nabla$, one sees immediately that any explicit dependence on a coordinate implies this automatically.\n",
      "\n",
      "c) The plane-wave states are eigenstates of the momentum operator, so we could say $\\psi(x,y,z) = e^{i(k_x x + k_y y)}\\psi(z)$.  Plugging this into the S.E. simply means that the $\\psi(x)\\psi(y)$ part drops out and the problem effectively becomes a problem in $z$ alone.\n",
      "\n",
      "d) $H$ is the generator of time translation, so $i\\hbar \\dot{x} = [x,H]$.  Explicitly,\n",
      "$$\n",
      "\\begin{align}\n",
      "\\dot{x} &= -\\frac{i}{\\hbar} \\frac{1}{2m} \\left[x, \\left(p_x - \\frac{e}{c}Bz\\right)^2\\right] \\\\\n",
      "&= -\\frac{i}{\\hbar}\\frac{1}{2m} \\left\\{\\left[x,\\left(p_x-\\frac{e}{c}Bz\\right)\\right]\\left(p_x-\\frac{e}{c}Bz\\right) + \\left(p_x-\\frac{e}{c}Bz\\right)\\left[x,\\left(p_x-\\frac{e}{c}Bz\\right)\\right] \\right\\} \\\\\n",
      "&= -\\frac{i}{\\hbar}\\frac{1}{2m} \\left\\{ i\\hbar \\left(p_x-\\frac{e}{c}Bz\\right) + \\left(p_x-\\frac{e}{c}Bz\\right) i\\hbar \\right\\} \\\\\n",
      "&= \\frac{1}{m} \\left(p_x - \\frac{e}{c}Bz\\right)\n",
      "\\end{align}\n",
      "$$\n",
      "(This is one of the more helpful commutator identities to remember!).  Not too surprising.  This is what we would have expected from classical considerations alone (i.e. $\\vec{A}$ becomes part of the canonical momentum in the same way classically).\n",
      "\n",
      "e) Let's take a wild guess and choose $z \\rightarrow z+a$.  This is the qual, after all, and problems in which you're instructed to do something clever usually amount to something simple.  The Hamiltonian becomes\n",
      "$$\n",
      "H \\rightarrow \\frac{1}{2m} \\left[ \\left(\\hbar k_x - \\frac{e}{c}B(z+a)\\right)^2 + (\\hbar k_y)^2 + p_z^2 \\right] - eE(z+a)\n",
      "$$\n",
      "The terms linear in $z$ can be eliminated with the choice $a = \\frac{c}{eB}\\left(\\hbar k_x + \\frac{Emc}{B}\\right)$.  This leaves the Hamiltonian\n",
      "$$\n",
      "H = \\frac{1}{2m}\\left[(\\hbar k_y)^2 + p_z^2 + \\left(\\frac{eB}{c}\\right)^2 z^2\\right] - \\frac{cE}{B} \\hbar k_x - \\left(\\frac{cE}{B}\\right)^2 \\frac{m}{2}\n",
      "$$\n",
      "\n",
      "This is just the QHO Hamiltonian with a constant energy shift and frequency $\\omega = \\frac{eB}{mc}$.  The energy levels are thus\n",
      "$$\n",
      "E_n = \\left(n + \\frac{1}{2}\\right)\\hbar \\frac{eB}{mc} + \\frac{(\\hbar k_y)^2}{2m} - \\frac{cE}{B}\\hbar k_x - \\left(\\frac{cE}{B}\\right)^2 \\frac{m}{2}\n",
      "$$"
     ]
    },
    {
     "cell_type": "heading",
     "level": 4,
     "metadata": {},
     "source": [
      "SP08, #16 (Other: Fock states)"
     ]
    },
    {
     "cell_type": "markdown",
     "metadata": {},
     "source": [
      "***Problem:*** The harmonic oscillator coherent state $\\lvert z \\rangle$ is an eigenstate of the annihilation operator, with $a \\lvert z \\rangle = z \\lvert z \\rangle$, and $z$ is a complex number.\n",
      "\n",
      "a) Find an explicit representation for $\\lvert z \\rangle$ in terms of occupation number eigenstates $\\lvert n \\rangle$.\n",
      "\n",
      "b) Compute the overlap $\\langle w \\lvert z \\rangle$ of two coherent states."
     ]
    },
    {
     "cell_type": "markdown",
     "metadata": {},
     "source": [
      "***Solution:***\n",
      "\n",
      "a) Expand the coherent state in number states: $\\lvert z \\rangle = \\sum_{n=0}^{\\infty} c_n \\lvert n \\rangle$.  It is an eigenstate of $a$ with eigenvalue $z$; this allows us to solve for the $c_n$'s iteratively:\n",
      "$$\n",
      "\\sqrt{n+1}c_{n+1} = zc_n \\quad \\Rightarrow \\quad c_n = \\frac{z^n}{\\sqrt{n!}}c_0\n",
      "$$\n",
      "\n",
      "Now for normalization:\n",
      "$$\n",
      "\\begin{align}\n",
      "\\langle z \\lvert z \\rangle &= \\lvert c_0 \\rvert^2 \\sum_{n=0}^{\\infty} \\frac{(\\bar{z}z)^n}{n!} \\\\\n",
      "&= \\lvert c_0 \\rvert^2 e^{\\bar{z}z} = 1\\\\\n",
      "\\\\\n",
      "\\Rightarrow \\lvert z \\rangle &= e^{-\\frac{1}{2}\\bar{z}z}\\sum_{n=0}^{\\infty} \\frac{z^n}{\\sqrt{n!}}\\lvert n \\rangle\n",
      "\\end{align}\n",
      "$$\n",
      "\n",
      "b) Using the definition of $\\lvert z \\rangle$,\n",
      "$$\n",
      "\\begin{align}\n",
      "\\langle w \\lvert z \\rangle &= e^{-\\frac{1}{2}\\bar{z}z} e^{-\\frac{1}{2}\\bar{w}w} \\sum_{m=0}^{\\infty} \\sum_{n=0}^{\\infty} \\frac{\\bar{w}^m z^n}{\\sqrt{m!n!}} \\langle m \\lvert n \\rangle \\\\\n",
      "&= e^{-\\frac{1}{2}(\\bar{z}z + \\bar{w}w)} \\sum_{n=0}^{\\infty} \\frac{(\\bar{w}z)^n}{n!} \\\\\n",
      "&= e^{-\\frac{1}{2}(\\bar{z}z + \\bar{w}w) + \\bar{w}z}\n",
      "\\end{align}\n",
      "$$"
     ]
    },
    {
     "cell_type": "code",
     "collapsed": false,
     "input": [],
     "language": "python",
     "metadata": {},
     "outputs": []
    }
   ],
   "metadata": {}
  }
 ]
}