{
 "cells": [
  {
   "cell_type": "markdown",
   "metadata": {},
   "source": [
    "# 2015 UCSD Qual Review: Grad QM"
   ]
  },
  {
   "cell_type": "markdown",
   "metadata": {},
   "source": [
    "#### Problem #1"
   ]
  },
  {
   "cell_type": "markdown",
   "metadata": {},
   "source": [
    "***Problem:*** Let $L_{\\pm} = L_x \\pm iL_y$ and $L_z$ be angular momentum operators.  Consider an operator $V_+$ which satisfies\n",
    "$$\n",
    "[L_+,V_+] = 0, \\quad [L_z,V_+] = V_+\n",
    "$$\n",
    "\n",
    "a) Let $\\lvert\\ell,m\\rangle$ be a simultaneous eigenfunction of $L^2$ and $L_z$ with eigenvalues $\\ell(\\ell + 1)$ and $m$, respectively.  (Here, $\\hbar = 1$.)  Show that\n",
    "$$\n",
    "V_+ \\lvert\\ell,\\ell\\rangle = \\text{const}\\lvert\\ell+1,\\ell+1\\rangle\n",
    "$$\n",
    "\n",
    "b) Demonstrate, for the case of orbital angular momenta, that\n",
    "$$\n",
    "V_+ = e^{i\\phi}\\sin\\theta\n",
    "$$\n",
    "satisfies the commutation relations of $V_+$ with $L_+$ and $L_z$ given above.  Recall that the operators $L_+$ and $L_z$ are given by the differential operators\n",
    "$$\n",
    "\\begin{align}\n",
    "L_+ &= e^{i\\phi} \\left(\\partial_{\\theta} + i\\cot\\theta\\partial_{\\phi}\\right) \\\\\n",
    "L_z &= -i\\partial_{\\phi}\n",
    "\\end{align}\n",
    "$$\n",
    "\n",
    "c) Assume that $\\lvert 0,0\\rangle = const \\equiv 1/\\sqrt{4\\pi}$.  Using the equations in parts (a) and (b), determine the functions $\\lvert\\ell,\\ell\\rangle$, normalized such that\n",
    "$$\n",
    "\\langle\\ell,\\ell\\lvert\\ell,\\ell\\rangle = 1\n",
    "$$\n",
    "\n",
    "A useful integral is\n",
    "$$\n",
    "\\int_0^{\\pi/2}d\\theta \\; \\sin^{2\\ell+1}\\theta = \\frac{2^{\\ell}\\ell!}{(2\\ell+1)!!}\n",
    "$$"
   ]
  },
  {
   "cell_type": "markdown",
   "metadata": {},
   "source": [
    "#### Problem #2"
   ]
  },
  {
   "cell_type": "markdown",
   "metadata": {},
   "source": [
    "***Problem:*** Two identical spin $\\frac{1}{2}$ fermions of mass $M$ are in a cubical box of length $L$.  They interact via the attractive potential\n",
    "$$\n",
    "V_1(\\vec{r}_1,\\vec{r}_2) = -\\epsilon L^3 \\delta^3 (\\vec{r}_1 - \\vec{r}_2)\n",
    "$$\n",
    "where $\\epsilon$ is small and positive.  Treat the problem non-relativistically, treating $V_1$ as a perturbation, and use $\\sin\\theta = \\text{Im}(e^{i\\theta})$ to do the integral.\n",
    "\n",
    "a) Compute the energy eigenvector and eigenvalue of the ground state, working to $O(\\epsilon)$.  Include the spin degrees of freedom.\n",
    "\n",
    "b) What is the total spin $S$ of the ground state, and the first excited state, and their total degeneracies? (Don't forget to include that of the spin.)\n",
    "\n",
    "c) What is the total spin and total degeneracy of the first excited state if the potential were instead repulsive ($\\epsilon<0$)?"
   ]
  },
  {
   "cell_type": "markdown",
   "metadata": {},
   "source": [
    "#### Problem #3"
   ]
  },
  {
   "cell_type": "markdown",
   "metadata": {},
   "source": [
    "***Problem:*** Two spin $\\frac{1}{2}$ particles of mass $m$ interact via $H_{int} = C\\vec{S}_1\\cdot\\vec{S}_2 \\delta^3(\\vec{r})$, where $C$ is a constant.\n",
    "\n",
    "a) Calculate the approximate differential and total scattering cross-section for the spin singlet configuration in the case where the particles are distinguishable.\n",
    "\n",
    "b) Calculate the approximate differential and total scattering cross section for the spin triplet configuration, in the case where the two particles are distinguishable.\n",
    "\n",
    "c) Compute the differential scattering cross section for unpolarized scattering, again for distinguishable particles.\n",
    "\n",
    "d) How do the above change when the particles are indistinguishable?\n",
    "\n",
    "e) How would your answer to part (d) change if the interaction is a more general $H_{int} = \\vec{S}_1\\cdot\\vec{S}_2 f(\\vec{r})$?"
   ]
  },
  {
   "cell_type": "markdown",
   "metadata": {},
   "source": [
    "#### Problem #4"
   ]
  },
  {
   "cell_type": "markdown",
   "metadata": {},
   "source": [
    "***Problem:*** Consider a non-relativistic particle of mass $m$ and charge $e$, in the external fields $\\vec{E} = E\\hat{z}$ and $\\vec{B} = B\\hat{y}$, wher $E$ and $B$ are constants.\n",
    "\n",
    "a) Write the Hamiltonian in the gauge where $\\vec{A}$ has only $\\hat{x}$ component non-zero, and verify that it has translation symmetry in two of the coordinates (which two?). [2 points]\n",
    "\n",
    "b) What are the corresponding conserved quantities? [1 point]\n",
    "\n",
    "c) Write the corresponding form of the wavefunction $\\psi(x,y,z)$ using separation of variables, so they're eigenstates of the above two conserved quantities.  Show that this $\\psi(x,y,z)$ reduces the Schrödinger equation to that of a 1d problem, in the one coordinate that does not have translation invariance. [2 points]\n",
    "\n",
    "d) Use $[H,x]$ to compute $\\dot{x}$.  Is $p_x = m\\dot{x}$? [1 point]\n",
    "\n",
    "e) Show that for a cleverly chosen shift in one of the spatial coordinates, you can reduce the remaining 1d Hamiltonian to one that you know very well.  In this way, find the quantized energy levels, and in particular the spacing between them. [4 points]"
   ]
  },
  {
   "cell_type": "markdown",
   "metadata": {},
   "source": [
    "#### Problem #5"
   ]
  },
  {
   "cell_type": "markdown",
   "metadata": {},
   "source": [
    "***Problem:*** The harmonic oscillator coherent state $\\lvert z \\rangle$ is an eigenstate of the annihilation operator, with $a \\lvert z \\rangle = z \\lvert z \\rangle$, and $z$ is a complex number.\n",
    "\n",
    "a) Find an explicit representation for $\\lvert z \\rangle$ in terms of occupation number eigenstates $\\lvert n \\rangle$.\n",
    "\n",
    "b) Compute the overlap $\\langle w \\lvert z \\rangle$ of two coherent states."
   ]
  },
  {
   "cell_type": "markdown",
   "metadata": {},
   "source": [
    "**Problem 6**"
   ]
  },
  {
   "cell_type": "markdown",
   "metadata": {},
   "source": [
    "***Problem:*** An electrong gun produces electrons randomly polarized with spins up or down along one of the three orthogonal axes 1, 2, 3 ($x$, $y$, $z$), with probabilities $p_{i,+}$ and $p_{i,-}$, $i\\in \\{1,2,3\\}$.  To simplify the results, rewrite these probabilities in terms of $d_i$ and $\\delta_i$ defined by\n",
    "$$\n",
    "p_{i,+} = \\frac{1}{2}d_i + \\frac{1}{2}\\delta_i, \\quad p_{i,-} = \\frac{1}{2}d_i - \\frac{1}{2}\\delta_i, \\quad i\\in\\{1,2,3\\}\n",
    "$$\n",
    "Because probabilities must be non-negative, $d_i\\geq 0$ and $\\lvert\\delta_i\\rvert \\leq d_i$.\n",
    "\n",
    "a) Write down the resultant electron spin density matrix $\\rho$ in the basis $\\{\\lvert +\\rangle,\\lvert -\\rangle\\}$ with respect to the $z$ axis.\n",
    "\n",
    "b) Any $2\\times 2$ matrix $\\rho$ can also be written as\n",
    "$$ \\rho = a\\mathbf{1} + \\mathbf{b}\\cdot\\mathbf{\\sigma} $$\n",
    "in terms of the unit matrix and 3 Pauli matrices.  Determine a and $\\mathbf{b}$ for $\\rho$ from part (a).\n",
    "\n",
    "c) A second electron gun produces electrons with spins up or down along a single axis in the $\\mathbf{\\hat{n}}$ direction with probabilities $(1\\pm\\Delta)/2$.  Find $\\mathbf{\\hat{n}}$ and $\\Delta$ so that the electron ensemble produced by the second gun is the same as that produced by the first gun."
   ]
  }
 ],
 "metadata": {
  "kernelspec": {
   "display_name": "Python 2",
   "language": "python",
   "name": "python2"
  },
  "language_info": {
   "codemirror_mode": {
    "name": "ipython",
    "version": 2
   },
   "file_extension": ".py",
   "mimetype": "text/x-python",
   "name": "python",
   "nbconvert_exporter": "python",
   "pygments_lexer": "ipython2",
   "version": "2.7.6"
  }
 },
 "nbformat": 4,
 "nbformat_minor": 0
}
