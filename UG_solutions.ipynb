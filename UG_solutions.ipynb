{
 "metadata": {
  "name": "",
  "signature": "sha256:52a0ed4526a39b3e141831a335dffdb116bf905f9b9ecc34cf8aa4d4efe46003"
 },
 "nbformat": 3,
 "nbformat_minor": 0,
 "worksheets": [
  {
   "cells": [
    {
     "cell_type": "heading",
     "level": 1,
     "metadata": {},
     "source": [
      "UCSD Qual Review: Undgergrad Quantum Mechanics"
     ]
    },
    {
     "cell_type": "heading",
     "level": 4,
     "metadata": {},
     "source": [
      "Paul Rozdeba, August 20, 2014"
     ]
    },
    {
     "cell_type": "code",
     "collapsed": false,
     "input": [],
     "language": "python",
     "metadata": {},
     "outputs": []
    }
   ],
   "metadata": {}
  }
 ]
}